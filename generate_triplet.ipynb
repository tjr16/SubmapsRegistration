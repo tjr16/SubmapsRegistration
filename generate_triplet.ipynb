{
 "cells": [
  {
   "cell_type": "markdown",
   "metadata": {},
   "source": [
    "## Data Preparation"
   ]
  },
  {
   "cell_type": "code",
   "execution_count": 32,
   "metadata": {},
   "outputs": [],
   "source": [
    "import re\n",
    "import os\n",
    "from random import choice\n",
    "from os import listdir\n",
    "import numpy as np\n",
    "import pypcd"
   ]
  },
  {
   "cell_type": "code",
   "execution_count": 25,
   "metadata": {},
   "outputs": [],
   "source": [
    "# currently in submap registration repo\n",
    "txt_path = \"./bin/loop_closures.txt\"\n",
    "data_path = \"./data_pcd\"\n",
    "bin_path = \"./data_bin\"\n",
    "if not os.path.exists(bin_path):\n",
    "    os.makedirs(bin_path)\n",
    "triplet_path = \"./triplets.txt\""
   ]
  },
  {
   "cell_type": "markdown",
   "metadata": {},
   "source": [
    "### Save pcd as bin"
   ]
  },
  {
   "cell_type": "code",
   "execution_count": 17,
   "metadata": {},
   "outputs": [
    {
     "name": "stdout",
     "output_type": "stream",
     "text": [
      "690 0\n"
     ]
    }
   ],
   "source": [
    "data_idx = []  # indices of .pcd files\n",
    "for string in listdir(data_path):    \n",
    "    data_idx.append(int(re.findall(r\"\\d+\", string)[0]))\n",
    "max_idx, min_idx = max(data_idx), min(data_idx)\n",
    "print max_idx, min_idx"
   ]
  },
  {
   "cell_type": "code",
   "execution_count": 55,
   "metadata": {},
   "outputs": [],
   "source": [
    "# need 10 minutes maybe\n",
    "for idx in range(min_idx, max_idx+1):\n",
    "    pc = pypcd.PointCloud.from_path(data_path + '/submap_' + str(idx) + '.pcd')\n",
    "    pc_array = np.array(pc.pc_data)\n",
    "    # output: N x 3\n",
    "    np.array(list(map(lambda x: list(x), pc_array))).astype(\"float32\").tofile(bin_path + \"/submap_\" + str(idx) + '.bin')"
   ]
  },
  {
   "cell_type": "markdown",
   "metadata": {},
   "source": [
    "Test: read bin file (AND RESHAPE!)"
   ]
  },
  {
   "cell_type": "code",
   "execution_count": 64,
   "metadata": {},
   "outputs": [
    {
     "name": "stdout",
     "output_type": "stream",
     "text": [
      "(77969, 3)\n"
     ]
    }
   ],
   "source": [
    "model = np.fromfile(bin_path + \"/submap_0.bin\", dtype=np.float32)\n",
    "model = np.reshape(model, (-1, 3))\n",
    "print model.shape"
   ]
  },
  {
   "cell_type": "markdown",
   "metadata": {},
   "source": [
    "### Generate Triplets"
   ]
  },
  {
   "cell_type": "code",
   "execution_count": 65,
   "metadata": {},
   "outputs": [],
   "source": [
    "with open(txt_path) as file:\n",
    "    lines = file.readlines()\n",
    "    lines = [line.rstrip() for line in lines]\n",
    "    lines = [line.split(\" \") for line in lines]\n",
    "    lines = [list(map(lambda x: int(x), line)) for line in lines]"
   ]
  },
  {
   "cell_type": "markdown",
   "metadata": {},
   "source": [
    "    lines: [[anchor, pos1, pos2, ...], \n",
    "            [anchor, pos1, pos2, ...], ...\n",
    "            ]"
   ]
  },
  {
   "cell_type": "code",
   "execution_count": 66,
   "metadata": {},
   "outputs": [
    {
     "name": "stdout",
     "output_type": "stream",
     "text": [
      "409 689 27\n"
     ]
    }
   ],
   "source": [
    "max_idx_overlap = max(map(max, lines))\n",
    "min_idx_overlap = min(map(min, lines))\n",
    "print len(lines), max_idx_overlap, min_idx_overlap"
   ]
  },
  {
   "cell_type": "code",
   "execution_count": 67,
   "metadata": {},
   "outputs": [
    {
     "name": "stdout",
     "output_type": "stream",
     "text": [
      "1186\n"
     ]
    }
   ],
   "source": [
    "twins = []  # check how many (anchor, positive)\n",
    "# start_idx = lines[0][0]\n",
    "# end_idx = lines[-1][0]\n",
    "\n",
    "for line in lines:\n",
    "    anchor_idx = line[0]\n",
    "    for i in range(1, len(line)):\n",
    "        twins.append((anchor_idx, line[i])) \n",
    "\n",
    "print len(twins)"
   ]
  },
  {
   "cell_type": "markdown",
   "metadata": {},
   "source": [
    "This could be a triplet dataset. But not in the same format as 3DFeatNet."
   ]
  },
  {
   "cell_type": "code",
   "execution_count": 79,
   "metadata": {},
   "outputs": [],
   "source": [
    "# triplets = []  # 3 negative for each triplets?\n",
    "# neg_num = 3\n",
    "\n",
    "# for line in lines:\n",
    "#     anchor_idx = line[0]\n",
    "#     for i in range(1, len(line)):  # each positive one\n",
    "#         pos = line[i]\n",
    "#         for neg in range(neg_num):  # more negative ones\n",
    "#             neg = choice([i for i in range(min_idx, max_idx+1) if i not in line])\n",
    "#             triplets.append((anchor_idx, pos, neg))\n",
    "            \n",
    "# print len(triplets)"
   ]
  },
  {
   "cell_type": "markdown",
   "metadata": {},
   "source": [
    "This should be correct, however, without \"nonnegatives\"."
   ]
  },
  {
   "cell_type": "code",
   "execution_count": 77,
   "metadata": {},
   "outputs": [],
   "source": [
    "triplets_str = []\n",
    "\n",
    "for line in lines:\n",
    "    anchor_path = \"./data_bin/submap_\" + str(line[0]) + \".bin\"\n",
    "    positives = \" \".join(list(map(str, line[1:])))\n",
    "    triplets_str.append(anchor_path + \"\\t|\\t\" + positives + \"\\t| \")"
   ]
  },
  {
   "cell_type": "code",
   "execution_count": 78,
   "metadata": {},
   "outputs": [],
   "source": [
    "with open(bin_path + \"/train.txt\", \"w\") as file:\n",
    "    file.write(\"\\n\".join(triplets_str))"
   ]
  }
 ],
 "metadata": {
  "kernelspec": {
   "display_name": "Python 2",
   "language": "python",
   "name": "python2"
  },
  "language_info": {
   "codemirror_mode": {
    "name": "ipython",
    "version": 2
   },
   "file_extension": ".py",
   "mimetype": "text/x-python",
   "name": "python",
   "nbconvert_exporter": "python",
   "pygments_lexer": "ipython2",
   "version": "2.7.18"
  }
 },
 "nbformat": 4,
 "nbformat_minor": 5
}
